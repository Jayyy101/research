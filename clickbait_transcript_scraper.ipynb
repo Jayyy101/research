{
 "cells": [
  {
   "cell_type": "code",
   "execution_count": 7,
   "metadata": {},
   "outputs": [
    {
     "name": "stdout",
     "output_type": "stream",
     "text": [
      "Resuming transcript scraping for 18317 videos (all).\n"
     ]
    },
    {
     "name": "stderr",
     "output_type": "stream",
     "text": [
      "100%|██████████| 18317/18317 [2:29:26<00:00,  2.04it/s]   "
     ]
    },
    {
     "name": "stdout",
     "output_type": "stream",
     "text": [
      "Updated transcripts saved in 'clickbait_with_transcripts.json' and 'clickbait_with_transcripts.pkl'.\n"
     ]
    },
    {
     "name": "stderr",
     "output_type": "stream",
     "text": [
      "\n"
     ]
    }
   ],
   "source": [
    "import pandas as pd\n",
    "import json\n",
    "from youtube_transcript_api import YouTubeTranscriptApi\n",
    "from youtube_transcript_api._errors import (\n",
    "    TranscriptsDisabled, VideoUnavailable, NoTranscriptFound\n",
    ")\n",
    "from tqdm import tqdm\n",
    "import time\n",
    "import os\n",
    "\n",
    "# Load dataset with existing transcripts if available;\n",
    "# otherwise, load the base clickbait dataset.\n",
    "try:\n",
    "    df = pd.read_pickle(\"clickbait_with_transcripts.pkl\")\n",
    "    print(\"Resuming from existing dataset with transcripts.\")\n",
    "except FileNotFoundError:\n",
    "    df = pd.read_pickle(\"clickbait-df\")\n",
    "\n",
    "# Ensure there's a column for transcripts\n",
    "if 'transcript' not in df.columns:\n",
    "    df['transcript'] = None\n",
    "\n",
    "# File to save results incrementally (NDJSON format)\n",
    "json_filename = \"clickbait_with_transcripts.json\"\n",
    "\n",
    "# Function to fetch transcripts with error handling\n",
    "def get_transcript(video_id):\n",
    "    try:\n",
    "        transcript = YouTubeTranscriptApi.get_transcript(video_id)\n",
    "        return \" \".join([entry['text'] for entry in transcript])\n",
    "    except (TranscriptsDisabled, VideoUnavailable, NoTranscriptFound):\n",
    "        # Return None for videos with no valid transcript\n",
    "        return None\n",
    "    except Exception:\n",
    "        # Handle unexpected errors gracefully\n",
    "        return None\n",
    "\n",
    "# Identify videos that still need transcripts\n",
    "unscraped_videos = df[df['transcript'].isna()]\n",
    "\n",
    "print(f\"Resuming transcript scraping for {len(unscraped_videos)} videos (all).\")\n",
    "\n",
    "# Track already saved video IDs to prevent duplicate processing\n",
    "saved_video_ids = set()\n",
    "\n",
    "# If the JSON file exists, read saved video IDs from it (NDJSON: one JSON per line)\n",
    "if os.path.exists(json_filename):\n",
    "    with open(json_filename, \"r\") as json_file:\n",
    "        for line in json_file:\n",
    "            try:\n",
    "                entry = json.loads(line.strip())\n",
    "                saved_video_ids.add(entry[\"video_id\"])\n",
    "            except json.JSONDecodeError:\n",
    "                continue\n",
    "\n",
    "# Open JSON file in append mode to add new entries immediately\n",
    "with open(json_filename, \"a\") as json_file:\n",
    "    for i, row in tqdm(unscraped_videos.iterrows(), total=len(unscraped_videos)):\n",
    "        video_id = row['video_id']\n",
    "\n",
    "        # Skip if already saved\n",
    "        if video_id in saved_video_ids:\n",
    "            continue\n",
    "\n",
    "        # Fetch transcript\n",
    "        transcript = get_transcript(video_id)\n",
    "\n",
    "        # Skip saving if no transcript was found\n",
    "        if transcript is None:\n",
    "            continue\n",
    "\n",
    "        # Update the DataFrame\n",
    "        df.at[i, 'transcript'] = transcript\n",
    "\n",
    "        # Convert the row to a dictionary and add transcript\n",
    "        row_dict = row.to_dict()\n",
    "        row_dict[\"transcript\"] = transcript\n",
    "\n",
    "        # Write this JSON object as a new line (NDJSON)\n",
    "        json_file.write(json.dumps(row_dict) + \"\\n\")\n",
    "        json_file.flush()  # Ensure data is written immediately\n",
    "\n",
    "        # Prevent rate limiting\n",
    "        time.sleep(1)\n",
    "\n",
    "# Save the updated DataFrame in pickle format as well\n",
    "df.to_pickle(\"clickbait_with_transcripts.pkl\")\n",
    "\n",
    "print(f\"Updated transcripts saved in '{json_filename}' and 'clickbait_with_transcripts.pkl'.\")\n"
   ]
  }
 ],
 "metadata": {
  "kernelspec": {
   "display_name": "Python 3",
   "language": "python",
   "name": "python3"
  },
  "language_info": {
   "codemirror_mode": {
    "name": "ipython",
    "version": 3
   },
   "file_extension": ".py",
   "mimetype": "text/x-python",
   "name": "python",
   "nbconvert_exporter": "python",
   "pygments_lexer": "ipython3",
   "version": "3.12.6"
  }
 },
 "nbformat": 4,
 "nbformat_minor": 2
}
