{
 "cells": [
  {
   "cell_type": "code",
   "execution_count": 1,
   "id": "6831bf63",
   "metadata": {},
   "outputs": [
    {
     "data": {
      "text/html": [
       "<div>\n",
       "<style scoped>\n",
       "    .dataframe tbody tr th:only-of-type {\n",
       "        vertical-align: middle;\n",
       "    }\n",
       "\n",
       "    .dataframe tbody tr th {\n",
       "        vertical-align: top;\n",
       "    }\n",
       "\n",
       "    .dataframe thead th {\n",
       "        text-align: right;\n",
       "    }\n",
       "</style>\n",
       "<table border=\"1\" class=\"dataframe\">\n",
       "  <thead>\n",
       "    <tr style=\"text-align: right;\">\n",
       "      <th></th>\n",
       "      <th>channel_id</th>\n",
       "      <th>channel_name</th>\n",
       "      <th>channel_subscribers</th>\n",
       "      <th>channel_videos</th>\n",
       "      <th>channel_views</th>\n",
       "      <th>video_comments</th>\n",
       "      <th>video_id</th>\n",
       "      <th>video_likes</th>\n",
       "      <th>video_title</th>\n",
       "      <th>video_views</th>\n",
       "      <th>transcript</th>\n",
       "    </tr>\n",
       "  </thead>\n",
       "  <tbody>\n",
       "    <tr>\n",
       "      <th>0</th>\n",
       "      <td>UC7t6FZ5U17ruEXRH1WRxcTQ</td>\n",
       "      <td>Top List</td>\n",
       "      <td>0</td>\n",
       "      <td>193</td>\n",
       "      <td>143713154</td>\n",
       "      <td>131.0</td>\n",
       "      <td>hDcWfBq5bxM</td>\n",
       "      <td>1424.0</td>\n",
       "      <td>10 Amazing Places That Disappear During High Tide</td>\n",
       "      <td>360859.0</td>\n",
       "      <td>10 amazing places that disappear during high t...</td>\n",
       "    </tr>\n",
       "    <tr>\n",
       "      <th>1</th>\n",
       "      <td>UCa2fBMGQn5Q8hiZ4MX93Tmg</td>\n",
       "      <td>Top 10 Things</td>\n",
       "      <td>424187</td>\n",
       "      <td>345</td>\n",
       "      <td>81296257</td>\n",
       "      <td>62.0</td>\n",
       "      <td>BtHDTsAA3uI</td>\n",
       "      <td>273.0</td>\n",
       "      <td>10 Riddles That Will Trick Your Brain</td>\n",
       "      <td>23835.0</td>\n",
       "      <td>feel like you have more common sense than othe...</td>\n",
       "    </tr>\n",
       "    <tr>\n",
       "      <th>2</th>\n",
       "      <td>UCQ-hpFPF4nOKoKPEAZM_THw</td>\n",
       "      <td>TopTenz</td>\n",
       "      <td>1113188</td>\n",
       "      <td>1437</td>\n",
       "      <td>306666947</td>\n",
       "      <td>1158.0</td>\n",
       "      <td>pqe4AHTpzPg</td>\n",
       "      <td>3607.0</td>\n",
       "      <td>Top 10 Worst Moments in DC Comics — TopTenzNet</td>\n",
       "      <td>514051.0</td>\n",
       "      <td>Top 10 Worst Moments in DC Comics 10. Superman...</td>\n",
       "    </tr>\n",
       "    <tr>\n",
       "      <th>3</th>\n",
       "      <td>UCBINYCmwE29fBXCpUI8DgTA</td>\n",
       "      <td>MostAmazingTop10</td>\n",
       "      <td>4129592</td>\n",
       "      <td>2065</td>\n",
       "      <td>1243277026</td>\n",
       "      <td>2835.0</td>\n",
       "      <td>nEGTPVWnwyo</td>\n",
       "      <td>7638.0</td>\n",
       "      <td>Top 10 Scary American Urban Legends - Part 3</td>\n",
       "      <td>334602.0</td>\n",
       "      <td>Starting off at  number 10 we have The Skunk A...</td>\n",
       "    </tr>\n",
       "    <tr>\n",
       "      <th>4</th>\n",
       "      <td>UCX--mGSg0UwDjl7MDL8H5Jg</td>\n",
       "      <td>BabbleTop</td>\n",
       "      <td>119764</td>\n",
       "      <td>248</td>\n",
       "      <td>53525150</td>\n",
       "      <td>549.0</td>\n",
       "      <td>T9O6rfENh7I</td>\n",
       "      <td>1145.0</td>\n",
       "      <td>Top 10 Things Subway DOESN'T Want You To KNOW!</td>\n",
       "      <td>129069.0</td>\n",
       "      <td>About ten years ago there was no better bet\\nt...</td>\n",
       "    </tr>\n",
       "  </tbody>\n",
       "</table>\n",
       "</div>"
      ],
      "text/plain": [
       "                 channel_id      channel_name  channel_subscribers  \\\n",
       "0  UC7t6FZ5U17ruEXRH1WRxcTQ          Top List                    0   \n",
       "1  UCa2fBMGQn5Q8hiZ4MX93Tmg     Top 10 Things               424187   \n",
       "2  UCQ-hpFPF4nOKoKPEAZM_THw           TopTenz              1113188   \n",
       "3  UCBINYCmwE29fBXCpUI8DgTA  MostAmazingTop10              4129592   \n",
       "4  UCX--mGSg0UwDjl7MDL8H5Jg         BabbleTop               119764   \n",
       "\n",
       "   channel_videos  channel_views  video_comments     video_id  video_likes  \\\n",
       "0             193      143713154           131.0  hDcWfBq5bxM       1424.0   \n",
       "1             345       81296257            62.0  BtHDTsAA3uI        273.0   \n",
       "2            1437      306666947          1158.0  pqe4AHTpzPg       3607.0   \n",
       "3            2065     1243277026          2835.0  nEGTPVWnwyo       7638.0   \n",
       "4             248       53525150           549.0  T9O6rfENh7I       1145.0   \n",
       "\n",
       "                                         video_title  video_views  \\\n",
       "0  10 Amazing Places That Disappear During High Tide     360859.0   \n",
       "1              10 Riddles That Will Trick Your Brain      23835.0   \n",
       "2     Top 10 Worst Moments in DC Comics — TopTenzNet     514051.0   \n",
       "3       Top 10 Scary American Urban Legends - Part 3     334602.0   \n",
       "4     Top 10 Things Subway DOESN'T Want You To KNOW!     129069.0   \n",
       "\n",
       "                                          transcript  \n",
       "0  10 amazing places that disappear during high t...  \n",
       "1  feel like you have more common sense than othe...  \n",
       "2  Top 10 Worst Moments in DC Comics 10. Superman...  \n",
       "3  Starting off at  number 10 we have The Skunk A...  \n",
       "4  About ten years ago there was no better bet\\nt...  "
      ]
     },
     "execution_count": 1,
     "metadata": {},
     "output_type": "execute_result"
    }
   ],
   "source": [
    "import pandas as pd\n",
    "import json\n",
    "\n",
    "# Open and read the JSON file line by line\n",
    "with open('clickbait_with_transcripts.json', 'r') as file:\n",
    "    lines = file.readlines()\n",
    "\n",
    "# Try loading the lines to see if it works\n",
    "try:\n",
    "    # Try to load the JSON data\n",
    "    data = [json.loads(line.strip()) for line in lines]\n",
    "    # Convert the list of JSON objects into a dataframe\n",
    "    df1 = pd.json_normalize(data)\n",
    "    \n",
    "except json.JSONDecodeError as e:\n",
    "    print(f\"Error reading JSON: {e}\")\n",
    "\n",
    "df1 = df1.drop(\"video_dislikes\", axis=1)\n",
    "df1.head()"
   ]
  },
  {
   "cell_type": "code",
   "execution_count": 2,
   "id": "34e1839b",
   "metadata": {},
   "outputs": [
    {
     "data": {
      "text/html": [
       "<div>\n",
       "<style scoped>\n",
       "    .dataframe tbody tr th:only-of-type {\n",
       "        vertical-align: middle;\n",
       "    }\n",
       "\n",
       "    .dataframe tbody tr th {\n",
       "        vertical-align: top;\n",
       "    }\n",
       "\n",
       "    .dataframe thead th {\n",
       "        text-align: right;\n",
       "    }\n",
       "</style>\n",
       "<table border=\"1\" class=\"dataframe\">\n",
       "  <thead>\n",
       "    <tr style=\"text-align: right;\">\n",
       "      <th></th>\n",
       "      <th>video_id</th>\n",
       "      <th>transcript</th>\n",
       "      <th>channel_id</th>\n",
       "      <th>channel_name</th>\n",
       "      <th>channel_subscribers</th>\n",
       "      <th>channel_videos</th>\n",
       "      <th>channel_views</th>\n",
       "      <th>video_comments</th>\n",
       "      <th>video_likes</th>\n",
       "      <th>video_views</th>\n",
       "      <th>video_title</th>\n",
       "    </tr>\n",
       "  </thead>\n",
       "  <tbody>\n",
       "    <tr>\n",
       "      <th>0</th>\n",
       "      <td>hxwpkM5w3Cc</td>\n",
       "      <td>- I tied up an FBI agent.\\n(words pop) If he s...</td>\n",
       "      <td>UCX6OQ3DkcsbYNE6H8uQQuVA</td>\n",
       "      <td>MrBeast</td>\n",
       "      <td>377000000</td>\n",
       "      <td>24</td>\n",
       "      <td>76059412657</td>\n",
       "      <td>94218</td>\n",
       "      <td>4751551</td>\n",
       "      <td>240148567</td>\n",
       "      <td>I Got Hunted By The FBI</td>\n",
       "    </tr>\n",
       "    <tr>\n",
       "      <th>1</th>\n",
       "      <td>81mXAkFEkMs</td>\n",
       "      <td>hey what's happening y'all welcome back to ano...</td>\n",
       "      <td>UCwNEx3HyQ_wiCL9LNn3mTSw</td>\n",
       "      <td>Real Bizarre</td>\n",
       "      <td>654000</td>\n",
       "      <td>24</td>\n",
       "      <td>206980120</td>\n",
       "      <td>917</td>\n",
       "      <td>15166</td>\n",
       "      <td>6905437</td>\n",
       "      <td>10 Real Life Giants You Won’t Believe Exist</td>\n",
       "    </tr>\n",
       "    <tr>\n",
       "      <th>2</th>\n",
       "      <td>9NQQKNAwaPk</td>\n",
       "      <td>I used to taste your daddy who doesn't love a ...</td>\n",
       "      <td>UCmvqviNx70U0l4ZcvUAXxhA</td>\n",
       "      <td>Top 5 Best</td>\n",
       "      <td>5480000</td>\n",
       "      <td>24</td>\n",
       "      <td>836448242</td>\n",
       "      <td>2458</td>\n",
       "      <td>56901</td>\n",
       "      <td>2776197</td>\n",
       "      <td>10 Mythical CREATURES That Actually Existed</td>\n",
       "    </tr>\n",
       "    <tr>\n",
       "      <th>3</th>\n",
       "      <td>Y_PQrPRolvM</td>\n",
       "      <td>Hi!\\nWho said that giants are imaginary and on...</td>\n",
       "      <td>UCwNEx3HyQ_wiCL9LNn3mTSw</td>\n",
       "      <td>Real Bizarre</td>\n",
       "      <td>654000</td>\n",
       "      <td>24</td>\n",
       "      <td>206980120</td>\n",
       "      <td>660</td>\n",
       "      <td>9680</td>\n",
       "      <td>1294977</td>\n",
       "      <td>Real Giants Caught On Camera!</td>\n",
       "    </tr>\n",
       "    <tr>\n",
       "      <th>4</th>\n",
       "      <td>ZZtYAOpHVYk</td>\n",
       "      <td>[Music] hey guys what's up it's charlie here a...</td>\n",
       "      <td>UCRyIP2oznv4UPAl1jmKS5kA</td>\n",
       "      <td>Top 10s</td>\n",
       "      <td>5130000</td>\n",
       "      <td>24</td>\n",
       "      <td>1641526994</td>\n",
       "      <td>3677</td>\n",
       "      <td>63330</td>\n",
       "      <td>9247828</td>\n",
       "      <td>10 Real Life Giants</td>\n",
       "    </tr>\n",
       "  </tbody>\n",
       "</table>\n",
       "</div>"
      ],
      "text/plain": [
       "      video_id                                         transcript  \\\n",
       "0  hxwpkM5w3Cc  - I tied up an FBI agent.\\n(words pop) If he s...   \n",
       "1  81mXAkFEkMs  hey what's happening y'all welcome back to ano...   \n",
       "2  9NQQKNAwaPk  I used to taste your daddy who doesn't love a ...   \n",
       "3  Y_PQrPRolvM  Hi!\\nWho said that giants are imaginary and on...   \n",
       "4  ZZtYAOpHVYk  [Music] hey guys what's up it's charlie here a...   \n",
       "\n",
       "                 channel_id  channel_name channel_subscribers  channel_videos  \\\n",
       "0  UCX6OQ3DkcsbYNE6H8uQQuVA       MrBeast           377000000              24   \n",
       "1  UCwNEx3HyQ_wiCL9LNn3mTSw  Real Bizarre              654000              24   \n",
       "2  UCmvqviNx70U0l4ZcvUAXxhA    Top 5 Best             5480000              24   \n",
       "3  UCwNEx3HyQ_wiCL9LNn3mTSw  Real Bizarre              654000              24   \n",
       "4  UCRyIP2oznv4UPAl1jmKS5kA       Top 10s             5130000              24   \n",
       "\n",
       "  channel_views video_comments video_likes video_views  \\\n",
       "0   76059412657          94218     4751551   240148567   \n",
       "1     206980120            917       15166     6905437   \n",
       "2     836448242           2458       56901     2776197   \n",
       "3     206980120            660        9680     1294977   \n",
       "4    1641526994           3677       63330     9247828   \n",
       "\n",
       "                                   video_title  \n",
       "0                      I Got Hunted By The FBI  \n",
       "1  10 Real Life Giants You Won’t Believe Exist  \n",
       "2  10 Mythical CREATURES That Actually Existed  \n",
       "3                Real Giants Caught On Camera!  \n",
       "4                          10 Real Life Giants  "
      ]
     },
     "execution_count": 2,
     "metadata": {},
     "output_type": "execute_result"
    }
   ],
   "source": [
    "\n",
    "\n",
    "# Open and read the JSON file line by line\n",
    "with open('clickbait_extra_transcripts.json', 'r') as file:\n",
    "    lines = file.readlines()\n",
    "\n",
    "# Try loading the lines to see if it works\n",
    "try:\n",
    "    # Try to load the JSON data\n",
    "    data = [json.loads(line.strip()) for line in lines]\n",
    "    # Convert the list of JSON objects into a dataframe\n",
    "    df2 = pd.json_normalize(data)\n",
    "    \n",
    "except json.JSONDecodeError as e:\n",
    "    print(f\"Error reading JSON: {e}\")\n",
    "df2 = df2.drop([\"Video Title\", \"Views\", \"Likes\", \"Dislikes\", \"Favorites\", \"video_dislikes\"], axis=1)\n",
    "df2.head()"
   ]
  },
  {
   "cell_type": "code",
   "execution_count": 3,
   "id": "7e4878c6",
   "metadata": {},
   "outputs": [
    {
     "data": {
      "text/plain": [
       "channel_id             0\n",
       "channel_name           0\n",
       "channel_subscribers    0\n",
       "channel_videos         0\n",
       "channel_views          0\n",
       "video_comments         0\n",
       "video_id               0\n",
       "video_likes            0\n",
       "video_title            0\n",
       "video_views            0\n",
       "transcript             0\n",
       "label                  0\n",
       "dtype: int64"
      ]
     },
     "execution_count": 3,
     "metadata": {},
     "output_type": "execute_result"
    }
   ],
   "source": [
    "clickbait_df = pd.concat([df1, df2], axis=0)\n",
    "\n",
    "\n",
    "clickbait_df[\"label\"] = pd.Series([1]*len(clickbait_df))\n",
    "clickbait_df = clickbait_df.dropna()\n",
    "clickbait_df.isnull().sum()"
   ]
  },
  {
   "cell_type": "code",
   "execution_count": 4,
   "id": "953e8850",
   "metadata": {},
   "outputs": [
    {
     "data": {
      "text/plain": [
       "0"
      ]
     },
     "execution_count": 4,
     "metadata": {},
     "output_type": "execute_result"
    }
   ],
   "source": [
    "\n",
    "# Open and read the JSON file line by line\n",
    "with open('nonclickbait_with_transcripts.json', 'r') as file:\n",
    "    lines = file.readlines()\n",
    "\n",
    "# Try loading the lines to see if it works\n",
    "try:\n",
    "    # Try to load the JSON data\n",
    "    data = [json.loads(line.strip()) for line in lines]\n",
    "    # Convert the list of JSON objects into a dataframe\n",
    "    nonclickbait_full_df = pd.json_normalize(data)\n",
    "    \n",
    "except json.JSONDecodeError as e:\n",
    "    print(f\"Error reading JSON: {e}\")\n",
    "\n",
    "nonclickbait_full_df = nonclickbait_full_df.drop(\"video_dislikes\", axis=1)\n",
    "nonclickbait_full_df[\"label\"] = pd.Series([0]*len(nonclickbait_full_df))\n",
    "\n",
    "\n",
    "\n",
    "nonclickbait_balanced_df = nonclickbait_full_df.sample(n=len(clickbait_df), random_state=42)\n",
    "nonclickbait_balanced_df[\"transcript\"].isna().sum()\n"
   ]
  },
  {
   "cell_type": "code",
   "execution_count": 5,
   "id": "b3b13eb2",
   "metadata": {},
   "outputs": [
    {
     "data": {
      "text/plain": [
       "\"10 amazing places that disappear during high tide number 10 a road in France if you're planning a trip to France make sure to be careful which roads you take they might just disappear connecting the Gulf of berf with the island of no pasage dooy is a road that is not only unique but extremely dangerous twice every day when the High Tide Rises the 2.58 M long passage disappears 13 15 ft underwater people use the road two times a day for a few hours special panels on both sides show when it's safe to travel people still get caught between the tides and there are elevated rescue towers for people to climb just in case number nine shivling Stam hesar Mahadev Temple is located in kavi kbo Gujarat India it shieling is located so close to the sea that one can only worship there during low tide the shrine is more than 150 years old and is situated near the Gulf of cambay during high tide the 4-ft Shing is completely submerged but as low tide begins we see the shivling reappear number eight M say Michael this island Castle in mon Michael France is only accessible during low tide it's claimed a Fame is that it never fell to the English during the 116 years of the Hundred Years War with tides that can vary greatly the mount can still pose dangers for visitors who avoid the causeway and attempt the Hazardous walk across the Sands from the neighboring Coast number seven Jindo and modotto these two Islands are located in the southwest of South Korea two times a year a natural Causeway opens due to extremely low tides connecting the islands for a period of 1 hour the causeway is almost 3 km long and over 40 m wide a festival is dedicated to this natural wonder and people from all over the world attend every year on each of these days visitors and tourists from each island traditionally walk to the middle of the causeway to meet one another and celebrate number six bar airport bar is a 23 squ M island off the western coast of Scotland it has an airport with three marked runways and conducts regularly scheduled flights what makes the those flights unique is that the schedule takes the tide into account during high tide the sea submerges the runways in 2011 Bara airport was voted number one in the world's top airport approaches by a poll conducted by privatefly tocom number five St Michael's Mount St Michael's Mount is a tidal Island located 366 MERS off the mounts Bay coast of Cornwall in Southwestern England it is united with the Mainland by a man-made Causeway passable only at Mid to low tide made of granite sets Legend has it that the mount was once the home of a giant named Corran who would wait ashore and steal cattle when he got hungry visitors can follow in the footsteps of Corran and visit the island during low tide when a granite Causeway appears for pedestrian Crossings inside the castle walls history lovers can enjoy a display of armor and weapons subtropical Gardens and stunning views from the castle turrets Miss low tide fairy boo services are running at high tide during the summer number four Rising tide horses four horses are standing by the Tims but you'll only see them at low tide they are located by the voxhall bridge not far from the houses of Parliament and are visible in different degrees as the water level changes created by EOS sculptor Jason decar's Taylor to encourage people to reflect on our dependence on fossil fuel the H's heads are oil well pumps also Al known as HSE head pumps two of the Riders are businessmen and two are children alluding to the people who currently control resources versus those whose Futures are at stake number three Angel Road there are tourist spots throughout Japan that are advertised as being places for couples to visit Angel Road in shodoshima Kagawa a beautiful spot where the path only appears during low tide is one of them the path is approximately 500 M long Legend has it that if couples walk this path while holding hands it leads to happiness many visit this romantic Spot movies and TV dramas are shot here as well Angel Road can be crossed about 3 hours before low tide it's the best time to visit because that's when there's the least amount of footprints number two Konan Yuan it's called a unique Paradise in the Gulf of Thailand and many who have visited the three islands of Konan Yuan seem to agree popular with divers and underwater explorers Konan Yuan islands are interconnected by a long Sandy Bridge a stunning natural phenomenon during low tide the long stripe of smooth white sand can actually be explored on foot according to thailand. at high tide the beach is submerged in crystalclear water and konang Yan regains the appearance of three islands sitting separately on the sea number one mangad white Sandbar the man OD white Sandbar completely disappears during high tide and is one of the most popular tourist destinations in negr Oriental the exceptional location can be accessed via 15-minute boat ride from the capin yahan WARF in the South Bas Bay Bay City Negros Oriental one can only witness it during low tide it is only then that the beautiful White Sands and Starfish show up but during high tide one can appreciate the beauty of the unspoiled Beach and the crystal blue ocean water so what did you think of our list what are some other amazing places that you know of that disappear during high tide let us know in the comments down below and don't forget to like And subscribe to top list for more top 10 like this one\""
      ]
     },
     "execution_count": 5,
     "metadata": {},
     "output_type": "execute_result"
    }
   ],
   "source": [
    "yt_videos = pd.concat([clickbait_df, nonclickbait_balanced_df], axis=0).reset_index()\n",
    "yt_videos = yt_videos.drop(\"index\", axis=1)\n",
    "yt_videos['transcript'][0]"
   ]
  },
  {
   "cell_type": "code",
   "execution_count": 6,
   "id": "2bd2f95e",
   "metadata": {},
   "outputs": [],
   "source": [
    "yt_videos_unbalanced = pd.concat([clickbait_df, nonclickbait_full_df], axis=0).reset_index()"
   ]
  },
  {
   "cell_type": "code",
   "execution_count": 7,
   "id": "5c65100d",
   "metadata": {},
   "outputs": [
    {
     "name": "stdout",
     "output_type": "stream",
     "text": [
      "Using device: cuda\n"
     ]
    },
    {
     "data": {
      "application/vnd.jupyter.widget-view+json": {
       "model_id": "f4837172b41049bda2cce9edb12ab636",
       "version_major": 2,
       "version_minor": 0
      },
      "text/plain": [
       "Generating embeddings:   0%|          | 0/79 [00:00<?, ?it/s]"
      ]
     },
     "metadata": {},
     "output_type": "display_data"
    },
    {
     "data": {
      "application/vnd.jupyter.widget-view+json": {
       "model_id": "3657cdf6b7fd499eb295f473f37e4113",
       "version_major": 2,
       "version_minor": 0
      },
      "text/plain": [
       "Generating embeddings:   0%|          | 0/274 [00:00<?, ?it/s]"
      ]
     },
     "metadata": {},
     "output_type": "display_data"
    },
    {
     "name": "stdout",
     "output_type": "stream",
     "text": [
      "Balanced feature matrix shape: (2502, 768)\n",
      "Unbalanced feature matrix shape: (8763, 768)\n"
     ]
    }
   ],
   "source": [
    "import re\n",
    "import torch\n",
    "import numpy as np\n",
    "import pandas as pd\n",
    "from transformers import DistilBertTokenizer, DistilBertModel\n",
    "from tqdm.notebook import tqdm\n",
    "\n",
    "# Check if GPU is available\n",
    "device = torch.device(\"cuda\" if torch.cuda.is_available() else \"cpu\")\n",
    "print(\"Using device:\", device)\n",
    "\n",
    "# --- Clean text ---\n",
    "def clean_text(text):\n",
    "    text = text.lower()\n",
    "    text = re.sub(r'[^a-z\\s]', '', text)\n",
    "    return text\n",
    "\n",
    "# Clean transcripts\n",
    "yt_videos['clean_transcript'] = yt_videos['transcript'].apply(clean_text)\n",
    "yt_videos_unbalanced['clean_transcript'] = yt_videos_unbalanced['transcript'].apply(clean_text)\n",
    "\n",
    "# --- Load model and tokenizer on GPU ---\n",
    "tokenizer = DistilBertTokenizer.from_pretrained('distilbert-base-uncased')\n",
    "model = DistilBertModel.from_pretrained('distilbert-base-uncased')\n",
    "model.to(device)\n",
    "model.eval()\n",
    "\n",
    "# --- Embedding function using GPU ---\n",
    "def get_distilbert_embeddings(text_series, batch_size=32):\n",
    "    all_embeddings = []\n",
    "\n",
    "    for i in tqdm(range(0, len(text_series), batch_size), desc=\"Generating embeddings\"):\n",
    "        batch_texts = text_series[i:i+batch_size].tolist()\n",
    "        encoded = tokenizer(batch_texts, padding=True, truncation=True, max_length=256, return_tensors='pt')\n",
    "\n",
    "        input_ids = encoded['input_ids'].to(device)\n",
    "        attention_mask = encoded['attention_mask'].to(device)\n",
    "\n",
    "        with torch.no_grad():\n",
    "            outputs = model(input_ids=input_ids, attention_mask=attention_mask)\n",
    "\n",
    "        embeddings = outputs.last_hidden_state\n",
    "        attention_mask_expanded = attention_mask.unsqueeze(-1).expand(embeddings.size()).float()\n",
    "        summed = torch.sum(embeddings * attention_mask_expanded, dim=1)\n",
    "        summed_mask = torch.clamp(attention_mask_expanded.sum(dim=1), min=1e-9)\n",
    "        avg_embeddings = (summed / summed_mask).cpu().numpy()\n",
    "\n",
    "        all_embeddings.append(avg_embeddings)\n",
    "\n",
    "    return np.vstack(all_embeddings)\n",
    "\n",
    "# --- Generate embeddings ---\n",
    "X_balanced = get_distilbert_embeddings(yt_videos['clean_transcript'])\n",
    "y_balanced = yt_videos['label'].values\n",
    "\n",
    "X_unbalanced = get_distilbert_embeddings(yt_videos_unbalanced['clean_transcript'])\n",
    "y_unbalanced = yt_videos_unbalanced['label'].values\n",
    "\n",
    "# --- Confirm shapes ---\n",
    "print(\"Balanced feature matrix shape:\", X_balanced.shape)\n",
    "print(\"Unbalanced feature matrix shape:\", X_unbalanced.shape)\n"
   ]
  },
  {
   "cell_type": "code",
   "execution_count": 10,
   "id": "4ea8b0ca",
   "metadata": {},
   "outputs": [
    {
     "name": "stdout",
     "output_type": "stream",
     "text": [
      "Classification Report:\n",
      "              precision    recall  f1-score   support\n",
      "\n",
      "           0       0.87      0.85      0.86       250\n",
      "           1       0.85      0.87      0.86       251\n",
      "\n",
      "    accuracy                           0.86       501\n",
      "   macro avg       0.86      0.86      0.86       501\n",
      "weighted avg       0.86      0.86      0.86       501\n",
      "\n"
     ]
    }
   ],
   "source": [
    "from sklearn.model_selection import train_test_split\n",
    "from sklearn.ensemble import RandomForestClassifier\n",
    "from sklearn.metrics import classification_report\n",
    "\n",
    "# Split into train/test sets (you can use balanced or unbalanced data)\n",
    "X_train, X_test, y_train, y_test = train_test_split(\n",
    "    X_balanced, y_balanced, test_size=0.2, random_state=42\n",
    ")\n",
    "\n",
    "# Initialize and train Random Forest\n",
    "rf_model = RandomForestClassifier(n_estimators=100, random_state=42)\n",
    "rf_model.fit(X_train, y_train)\n",
    "\n",
    "# Predict and evaluate\n",
    "y_pred = rf_model.predict(X_test)\n",
    "print(\"Classification Report:\")\n",
    "print(classification_report(y_test, y_pred))\n"
   ]
  },
  {
   "cell_type": "code",
   "execution_count": 11,
   "id": "0af06a79",
   "metadata": {},
   "outputs": [
    {
     "name": "stdout",
     "output_type": "stream",
     "text": [
      "Classification Report:\n",
      "              precision    recall  f1-score   support\n",
      "\n",
      "           0       0.91      0.84      0.87       250\n",
      "           1       0.85      0.91      0.88       251\n",
      "\n",
      "    accuracy                           0.88       501\n",
      "   macro avg       0.88      0.88      0.88       501\n",
      "weighted avg       0.88      0.88      0.88       501\n",
      "\n"
     ]
    }
   ],
   "source": [
    "from sklearn.neural_network import MLPClassifier\n",
    "from sklearn.model_selection import train_test_split\n",
    "from sklearn.metrics import classification_report\n",
    "\n",
    "# Train/test split\n",
    "X_train, X_test, y_train, y_test = train_test_split(\n",
    "    X_balanced, y_balanced, test_size=0.2, random_state=42\n",
    ")\n",
    "\n",
    "# Define the MLP model\n",
    "mlp_model = MLPClassifier(\n",
    "    hidden_layer_sizes=(128, 64),   # Two hidden layers with 128 and 64 neurons\n",
    "    activation='relu',              # ReLU activation\n",
    "    solver='adam',                  # Adam optimizer\n",
    "    max_iter=100,                   # Increase if it doesn't converge\n",
    "    random_state=42,\n",
    "    early_stopping=True             # Stop training when validation score doesn't improve\n",
    ")\n",
    "\n",
    "# Train the model\n",
    "mlp_model.fit(X_train, y_train)\n",
    "\n",
    "# Predict and evaluate\n",
    "y_pred = mlp_model.predict(X_test)\n",
    "print(\"Classification Report:\")\n",
    "print(classification_report(y_test, y_pred))\n"
   ]
  },
  {
   "cell_type": "code",
   "execution_count": 12,
   "id": "c8c737a5",
   "metadata": {},
   "outputs": [
    {
     "name": "stdout",
     "output_type": "stream",
     "text": [
      "Classification Report:\n",
      "              precision    recall  f1-score   support\n",
      "\n",
      "           0       0.86      0.89      0.88       250\n",
      "           1       0.89      0.86      0.87       251\n",
      "\n",
      "    accuracy                           0.87       501\n",
      "   macro avg       0.87      0.87      0.87       501\n",
      "weighted avg       0.87      0.87      0.87       501\n",
      "\n"
     ]
    }
   ],
   "source": [
    "from sklearn.linear_model import LogisticRegression\n",
    "from sklearn.model_selection import train_test_split\n",
    "from sklearn.metrics import classification_report\n",
    "\n",
    "# Split the dataset\n",
    "X_train, X_test, y_train, y_test = train_test_split(\n",
    "    X_balanced, y_balanced, test_size=0.2, random_state=42\n",
    ")\n",
    "\n",
    "# Initialize the Logistic Regression model\n",
    "logreg_model = LogisticRegression(\n",
    "    solver='lbfgs',       # Good default solver\n",
    "    max_iter=500,         # Increase if convergence warning appears\n",
    "    random_state=42\n",
    ")\n",
    "\n",
    "# Train the model\n",
    "logreg_model.fit(X_train, y_train)\n",
    "\n",
    "# Predict on test data\n",
    "y_pred = logreg_model.predict(X_test)\n",
    "\n",
    "# Evaluate the model\n",
    "print(\"Classification Report:\")\n",
    "print(classification_report(y_test, y_pred))\n"
   ]
  },
  {
   "cell_type": "code",
   "execution_count": 13,
   "id": "327e39fb",
   "metadata": {},
   "outputs": [],
   "source": [
    "from sklearn.model_selection import train_test_split\n",
    "from sklearn.ensemble import RandomForestClassifier\n",
    "from sklearn.linear_model import LogisticRegression\n",
    "from sklearn.neural_network import MLPClassifier\n",
    "from sklearn.metrics import classification_report\n",
    "\n",
    "# Split the unbalanced dataset\n",
    "X_train, X_test, y_train, y_test = train_test_split(\n",
    "    X_unbalanced, y_unbalanced, test_size=0.2, random_state=42\n",
    ")\n"
   ]
  },
  {
   "cell_type": "code",
   "execution_count": 14,
   "id": "9b0f633b",
   "metadata": {},
   "outputs": [
    {
     "name": "stdout",
     "output_type": "stream",
     "text": [
      "\n",
      "🌲 Random Forest Results\n",
      "              precision    recall  f1-score   support\n",
      "\n",
      "           0       0.89      1.00      0.94      1490\n",
      "           1       0.92      0.29      0.44       263\n",
      "\n",
      "    accuracy                           0.89      1753\n",
      "   macro avg       0.90      0.64      0.69      1753\n",
      "weighted avg       0.89      0.89      0.86      1753\n",
      "\n"
     ]
    }
   ],
   "source": [
    "print(\"\\n🌲 Random Forest Results\")\n",
    "rf_model = RandomForestClassifier(n_estimators=100, random_state=42)\n",
    "rf_model.fit(X_train, y_train)\n",
    "y_pred_rf = rf_model.predict(X_test)\n",
    "print(classification_report(y_test, y_pred_rf))\n"
   ]
  },
  {
   "cell_type": "code",
   "execution_count": 17,
   "id": "ac0ce71b",
   "metadata": {},
   "outputs": [
    {
     "name": "stdout",
     "output_type": "stream",
     "text": [
      "\n",
      "🧠 MLP Classifier Results\n",
      "              precision    recall  f1-score   support\n",
      "\n",
      "           0       0.96      0.99      0.97      1490\n",
      "           1       0.92      0.75      0.82       263\n",
      "\n",
      "    accuracy                           0.95      1753\n",
      "   macro avg       0.94      0.87      0.90      1753\n",
      "weighted avg       0.95      0.95      0.95      1753\n",
      "\n"
     ]
    }
   ],
   "source": [
    "print(\"\\n🧠 MLP Classifier Results\")\n",
    "mlp_model = MLPClassifier(\n",
    "    hidden_layer_sizes=(100, 64),\n",
    "    activation='relu',\n",
    "    solver='adam',\n",
    "    max_iter=200,\n",
    "    random_state=42,\n",
    "    early_stopping=True\n",
    ")\n",
    "mlp_model.fit(X_train, y_train)\n",
    "y_pred_mlp = mlp_model.predict(X_test)\n",
    "print(classification_report(y_test, y_pred_mlp))\n"
   ]
  },
  {
   "cell_type": "code",
   "execution_count": 16,
   "id": "ac2852e4",
   "metadata": {},
   "outputs": [
    {
     "name": "stdout",
     "output_type": "stream",
     "text": [
      "\n",
      "➕ Logistic Regression Results\n",
      "              precision    recall  f1-score   support\n",
      "\n",
      "           0       0.95      0.98      0.97      1490\n",
      "           1       0.89      0.71      0.79       263\n",
      "\n",
      "    accuracy                           0.94      1753\n",
      "   macro avg       0.92      0.85      0.88      1753\n",
      "weighted avg       0.94      0.94      0.94      1753\n",
      "\n"
     ]
    }
   ],
   "source": [
    "print(\"\\n➕ Logistic Regression Results\")\n",
    "logreg_model = LogisticRegression(solver='lbfgs', max_iter=500, random_state=42)\n",
    "logreg_model.fit(X_train, y_train)\n",
    "y_pred_logreg = logreg_model.predict(X_test)\n",
    "print(classification_report(y_test, y_pred_logreg))\n"
   ]
  }
 ],
 "metadata": {
  "kernelspec": {
   "display_name": "Python 3",
   "language": "python",
   "name": "python3"
  },
  "language_info": {
   "codemirror_mode": {
    "name": "ipython",
    "version": 3
   },
   "file_extension": ".py",
   "mimetype": "text/x-python",
   "name": "python",
   "nbconvert_exporter": "python",
   "pygments_lexer": "ipython3",
   "version": "3.12.6"
  }
 },
 "nbformat": 4,
 "nbformat_minor": 5
}
